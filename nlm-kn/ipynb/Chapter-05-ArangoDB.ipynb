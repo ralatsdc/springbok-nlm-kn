{
 "cells": [
  {
   "cell_type": "markdown",
   "metadata": {},
   "source": [
    "# Chapter 05: Use of ArangoDB\n",
    "\n",
    "Ray LeClair \\<2024-07-14 Sun\\>\n",
    "\n",
    "## Objectives\n",
    "\n",
    "Since the NCBI Information Resources Branch has extensive experience\n",
    "with ArangoDB, including performance comparison testing with Neo4j,\n",
    "interaction with the ArangoDB developers, and use in production, the\n",
    "objectives of this document is to demonstrate how to:\n",
    "\n",
    "-   Create or get, and delete an ArangoDB database\n",
    "\n",
    "-   Create or get, and delete a database graph\n",
    "\n",
    "-   Create or get, and delete a graph vertex collection\n",
    "\n",
    "-   Create or get, and delete a graph edge definition and collection\n",
    "\n",
    "-   Insert graph vertices and edges\n",
    "\n",
    "The ArangoDB database system, developed by ArangoDB Inc., supports\n",
    "three data models (graphs, JSON documents, and key/value pairs) within\n",
    "one database core, and provides a unified query language, AQL\n",
    "(ArangoDB Query Language).\n",
    "\n",
    "See: [ArangoDB](https://en.wikipedia.org/wiki/ArangoDB)\n",
    "\n",
    "### Background\n",
    "\n",
    "An instance of ArangoDB can be run using the official Docker\n",
    "image. For example, a instance with authentication disabled can be run\n",
    "as follows:\n",
    "\n",
    "``` bash\n",
    "docker run \\\n",
    "  -e ARANGO_NOAUTH=1 \\\n",
    "  -p 8529:8529 \\\n",
    "  -d \\\n",
    "  -v $ARANGODB_HOME:/var/lib/arangodb3 \\\n",
    "  arangodb\n",
    "```\n",
    "\n",
    "where `ARANGODB_HOME` has been set to the name of the directory in\n",
    "which to persist data. Now `python-arango` can be used to interact\n",
    "with the database system using Python.\n",
    "\n",
    "The following sections describe various development environments\n",
    "\n",
    "See:\n",
    "\n",
    "-   [ArangoDB Docker image](https://hub.docker.com/_/arangodb)\n",
    "-   [python-arango](https://docs.python-arango.com/en/main/#)\n",
    "-   [springbok-nlm-kn/README.md](https://github.com/ralatsdc/springbok-nlm-kn/blob/main/README.md)\n",
    "\n",
    "### Jupyter Notebook development environment\n",
    "\n",
    "Launch Jupyter Notebook from a terminal in which `.zshenv` has been\n",
    "sourced, and the virtual environment has been activated.\n",
    "\n",
    "### Emacs Org Mode development environment\n",
    "\n",
    "Launch Emacs from a terminal in which `.zshenv` has been sourced, then\n",
    "evaluate this code block to activate the virtual environment:\n",
    "\n",
    "``` commonlisp\n",
    "(pyvenv-activate \"../../.venv\")\n",
    "```\n",
    "\n",
    "## Create or get, and delete an ArangoDB database\n",
    "\n",
    "To begin, we import modules, and assign module scope variables:"
   ],
   "id": "06c3768d-9cc2-44ea-ba77-25b9bfc410e2"
  },
  {
   "cell_type": "code",
   "execution_count": null,
   "metadata": {
    "results": "silent",
    "session": "shared",
    "tangle": "../py/ArangoDB.py"
   },
   "outputs": [],
   "source": [
    "import ast\n",
    "from glob import glob\n",
    "import os\n",
    "from traceback import print_exc\n",
    "\n",
    "from arango import ArangoClient\n",
    "import pandas as pd\n",
    "\n",
    "ARANGO_URL = \"http://localhost:8529\"\n",
    "ARANGO_CLIENT = ArangoClient(hosts=ARANGO_URL)\n",
    "ARANGO_ROOT_PASSWORD = os.getenv(\"ARANGO_ROOT_PASSWORD\", \"\")\n",
    "SYS_DB = ARANGO_CLIENT.db(\"_system\", username=\"root\", password=ARANGO_ROOT_PASSWORD)\n",
    "\n",
    "DATA_DIR = \"../data\"\n",
    "\n",
    "NCBI_CELL_DIR = f\"{DATA_DIR}/ncbi-cell\"\n",
    "NSFOREST_DIR = f\"{DATA_DIR}/nsforest-2024-06-27\"\n"
   ],
   "id": "9227314f-bf60-4813-820e-a578b313e166"
  },
  {
   "cell_type": "markdown",
   "metadata": {},
   "source": [
    "Arango maintains a system database which is used for administering all\n",
    "other databases. Since we anticipate needing to create multiple\n",
    "versions of the database used for the NCBI Cell pilot, we append a\n",
    "semantic version to the database name. And we adopt the convention of\n",
    "creating the database, if needed, or getting it, otherwise. We will\n",
    "follow this convention when handling other database objects\n",
    "later. Here's the function we need:"
   ],
   "id": "8c8f5b5c-2714-42af-9189-ee5df1fbf56d"
  },
  {
   "cell_type": "code",
   "execution_count": null,
   "metadata": {
    "results": "silent",
    "session": "shared",
    "tangle": "../py/ArangoDB.py"
   },
   "outputs": [],
   "source": [
    "def create_or_get_database(database_name):\n",
    "    \"\"\"Create or get an ArangoDB database.\n",
    "\n",
    "    Parameters\n",
    "    ----------\n",
    "    database_name : str\n",
    "        Name of the database to create or get\n",
    "\n",
    "    Returns\n",
    "    -------\n",
    "    db : arango.database.StandardDatabase\n",
    "        Database\n",
    "    \"\"\"\n",
    "    # Create database, if needed\n",
    "    if not SYS_DB.has_database(database_name):\n",
    "        print(f\"Creating ArangoDB database: {database_name}\")\n",
    "        SYS_DB.create_database(database_name)\n",
    "\n",
    "    # Connect to database\n",
    "    print(f\"Getting ArangoDB database: {database_name}\")\n",
    "    db = ARANGO_CLIENT.db(database_name, username=\"root\", password=ARANGO_ROOT_PASSWORD)\n",
    "\n",
    "    return db\n"
   ],
   "id": "5445fd39-318f-46f8-b694-879c5d5ecfa6"
  },
  {
   "cell_type": "markdown",
   "metadata": {},
   "source": [
    "Note that we can delete the database as follows:"
   ],
   "id": "8f604315-1606-4d2a-9e8e-f314123053c0"
  },
  {
   "cell_type": "code",
   "execution_count": null,
   "metadata": {
    "results": "silent",
    "session": "shared",
    "tangle": "../py/ArangoDB.py"
   },
   "outputs": [],
   "source": [
    "def delete_database(database_name):\n",
    "    \"\"\"Delete an ArangoDB database.\n",
    "\n",
    "    Parameters\n",
    "    ----------\n",
    "    database_name : str\n",
    "        Name of the database to delete\n",
    "\n",
    "    Returns\n",
    "    -------\n",
    "    None\n",
    "    \"\"\"\n",
    "    # Delete database, if needed\n",
    "    if SYS_DB.has_database(database_name):\n",
    "        print(f\"Deleting ArangoDB database: {database_name}\")\n",
    "        SYS_DB.delete_database(database_name)\n"
   ],
   "id": "0d29948a-724c-4aa6-91d8-dd06143696a7"
  },
  {
   "cell_type": "markdown",
   "metadata": {},
   "source": [
    "Now initialize a named database:"
   ],
   "id": "ece77a20-7aa9-47ae-b302-4e36a77d32c2"
  },
  {
   "cell_type": "code",
   "execution_count": null,
   "metadata": {
    "results": "output",
    "session": "shared"
   },
   "outputs": [],
   "source": [
    "try:\n",
    "    database_name = \"ncbi-cell-v0.1.0\"\n",
    "    delete_database(database_name)\n",
    "    db = create_or_get_database(database_name)\n",
    "except Exception:\n",
    "    print_exc()\n"
   ],
   "id": "eb87ebc3-93ac-4a27-b1b0-619c0b571cfa"
  },
  {
   "cell_type": "markdown",
   "metadata": {},
   "source": [
    "## Create or get, and delete a database graph\n",
    "\n",
    "For purposes of this demonstration, we assume we have run NS-Forest\n",
    "for a set of CELLxGENE datasets, as shown in Chapter 03, naively using\n",
    "the default `cluster_header` of `\"cell_type\"` to obtain a set of\n",
    "marker genes for each cell type included in each dataset. It is\n",
    "natural, then, to treat cell types and marker genes as vertices of a\n",
    "graph. ArangoDB collects vertices in named collections, so we will use\n",
    "the names `cell` and `gene`.\n",
    "\n",
    "See: [Chapter-03-NS-Forest.ipynb](Chapter-03-NS-Forest.ipynb)\n",
    "\n",
    "Following our convention, we create the graph, if needed, or get it,\n",
    "otherwise. Here's the function:"
   ],
   "id": "dc984980-3fb9-4421-9c10-6d36a63ed332"
  },
  {
   "cell_type": "code",
   "execution_count": null,
   "metadata": {
    "results": "silent",
    "session": "shared",
    "tangle": "../py/ArangoDB.py"
   },
   "outputs": [],
   "source": [
    "def create_or_get_graph(db, graph_name):\n",
    "    \"\"\"Create or get an ArangoDB database graph.\n",
    "\n",
    "    Parameters\n",
    "    ----------\n",
    "    db : arango.database.StandardDatabase\n",
    "        Database\n",
    "    graph_name : str\n",
    "        Name of the graph to create or get\n",
    "\n",
    "    Returns\n",
    "    -------\n",
    "    graph : arango.graph.Graph\n",
    "        Database graph\n",
    "    \"\"\"\n",
    "    # Create, or get the graph\n",
    "    if not db.has_graph(graph_name):\n",
    "        print(f\"Creating database graph: {graph_name}\")\n",
    "        graph = db.create_graph(graph_name)\n",
    "    else:\n",
    "        print(f\"Getting database graph: {graph_name}\")\n",
    "        graph = db.graph(graph_name)\n",
    "\n",
    "    return graph\n"
   ],
   "id": "7dd2f5f4-d1bc-4267-b276-4a72f98f44ce"
  },
  {
   "cell_type": "markdown",
   "metadata": {},
   "source": [
    "Although we anticipate needing to create multiple graphs within the\n",
    "NCBI Cell pilot database, we will only create one graph here. We adopt\n",
    "the convention of labeling the graph by it's vertices:"
   ],
   "id": "148ee22d-4317-4ce7-9f2e-bfd20bfba4ba"
  },
  {
   "cell_type": "code",
   "execution_count": null,
   "metadata": {
    "results": "output",
    "session": "shared"
   },
   "outputs": [],
   "source": [
    "graph_name = \"cell-gene\"\n",
    "graph = create_or_get_graph(db, graph_name)\n"
   ],
   "id": "14678af0-4fd1-436f-8f12-bdc4d2d629dd"
  },
  {
   "cell_type": "markdown",
   "metadata": {},
   "source": [
    "Note that we can delete the graph as follows:"
   ],
   "id": "5cb1c714-96ed-40b2-bf50-dbf5e2dd0c29"
  },
  {
   "cell_type": "code",
   "execution_count": null,
   "metadata": {
    "results": "silent",
    "session": "shared",
    "tangle": "../py/ArangoDB.py"
   },
   "outputs": [],
   "source": [
    "def delete_graph(db, graph_name):\n",
    "    \"\"\"Delete an ArangoDB database graph.\n",
    "\n",
    "    Parameters\n",
    "    ----------\n",
    "    db : arango.database.StandardDatabase\n",
    "        Database\n",
    "    graph_name : str\n",
    "        Name of the graph to delete\n",
    "\n",
    "    Returns\n",
    "    -------\n",
    "    None\n",
    "    \"\"\"\n",
    "    # Delete the graph\n",
    "    if db.has_graph(graph_name):\n",
    "        print(f\"Deleting database graph: {graph_name}\")\n",
    "        db.delete_graph(graph_name)\n"
   ],
   "id": "aa98100e-8270-4573-8818-74cff28d2fa6"
  },
  {
   "cell_type": "markdown",
   "metadata": {},
   "source": [
    "## Create or get, and delete a graph vertex collection\n",
    "\n",
    "Following our earlier conventions, here's the function we need:"
   ],
   "id": "5cd3d722-4cd5-45f0-9953-bc6e54d8db02"
  },
  {
   "cell_type": "code",
   "execution_count": null,
   "metadata": {
    "results": "silent",
    "session": "shared",
    "tangle": "../py/ArangoDB.py"
   },
   "outputs": [],
   "source": [
    "def create_or_get_vertex_collection(graph, vertex_name):\n",
    "    \"\"\"Create, or get an ArangoDB database graph vertex collection.\n",
    "\n",
    "    Parameters\n",
    "    ----------\n",
    "    graph : arango.graph.Graph\n",
    "        Graph\n",
    "    vertex_name : str\n",
    "        Name of the vertex collection to create or get\n",
    "\n",
    "    Returns\n",
    "    -------\n",
    "    collection : arango.collection.VertexCollection\n",
    "        Graph vertex collection\n",
    "    \"\"\"\n",
    "    # Create, or get the vertex collection\n",
    "    if not graph.has_vertex_collection(vertex_name):\n",
    "        print(f\"Creating graph vertex collection: {vertex_name}\")\n",
    "        collection = graph.create_vertex_collection(vertex_name)\n",
    "    else:\n",
    "        print(f\"Getting graph vertex collection: {vertex_name}\")\n",
    "        collection = graph.vertex_collection(vertex_name)\n",
    "\n",
    "    return collection\n"
   ],
   "id": "4ff515ce-55c9-49fe-ae94-3e0e1e0ef18e"
  },
  {
   "cell_type": "markdown",
   "metadata": {},
   "source": [
    "Now we create the two named vertex collections:"
   ],
   "id": "3290843e-6c3f-4079-9a8c-a0b775824076"
  },
  {
   "cell_type": "code",
   "execution_count": null,
   "metadata": {
    "results": "output",
    "session": "shared"
   },
   "outputs": [],
   "source": [
    "cell_vertex_name = \"cell\"\n",
    "cell = create_or_get_vertex_collection(graph, cell_vertex_name)\n",
    "gene_vertex_name = \"gene\"\n",
    "gene = create_or_get_vertex_collection(graph, gene_vertex_name)\n"
   ],
   "id": "e065907d-f570-4240-9dbc-edba2dfa8632"
  },
  {
   "cell_type": "markdown",
   "metadata": {},
   "source": [
    "Note that we can delete a vertex collection as follows:"
   ],
   "id": "45b0898d-0e9e-40e6-bd62-7063274a7952"
  },
  {
   "cell_type": "code",
   "execution_count": null,
   "metadata": {
    "results": "silent",
    "session": "shared",
    "tangle": "../py/ArangoDB.py"
   },
   "outputs": [],
   "source": [
    "def delete_vertex_collection(graph, vertex_name):\n",
    "    \"\"\"Delete an ArangoDB database graph vertex collection.\n",
    "\n",
    "    Parameters\n",
    "    ----------\n",
    "    graph : arango.graph.Graph\n",
    "        Graph\n",
    "    vertex_name : str\n",
    "        Name of the vertex collection to delete\n",
    "\n",
    "    Returns\n",
    "    -------\n",
    "    None\n",
    "    \"\"\"\n",
    "    # Delete the vertex collection\n",
    "    if graph.has_vertex_collection(vertex_name):\n",
    "        print(f\"Deleting graph vertex collection: {vertex_name}\")\n",
    "        graph.delete_vertex_collection(vertex_name)\n"
   ],
   "id": "bc302b63-3ddf-4dc8-9234-d7b59b7979d1"
  },
  {
   "cell_type": "markdown",
   "metadata": {},
   "source": [
    "## Create or get, and delete a graph edge definition and collection\n",
    "\n",
    "ArangoDB can create edge collections by specifying an edge definition\n",
    "consisting of a from and to vertex collection. When using this\n",
    "approach, edges cannot be inserted into the collection unless valid.\n",
    "Here's the function we need, taking this defensive approach:"
   ],
   "id": "1c66eddd-93d6-4575-9a82-f7e5e1b6436c"
  },
  {
   "cell_type": "code",
   "execution_count": null,
   "metadata": {
    "results": "silent",
    "session": "shared",
    "tangle": "../py/ArangoDB.py"
   },
   "outputs": [],
   "source": [
    "def create_or_get_edge_collection(graph, from_vertex_name, to_vertex_name):\n",
    "    \"\"\"Create, or get an ArangoDB database edge collection from and\n",
    "    to the specified vertices.\n",
    "\n",
    "    Parameters\n",
    "    ----------\n",
    "    graph : arango.graph.Graph\n",
    "        Graph\n",
    "    from_vertex : str\n",
    "        Name of the vertex collection from which the edge originates\n",
    "    to_vertex : str\n",
    "        Name of the vertex collection to which the edge terminates\n",
    "\n",
    "    Returns\n",
    "    -------\n",
    "    collection : arango.collection.EdgeCollection\n",
    "        Graph edge collection\n",
    "    collection_name : str\n",
    "        Name of the edge collection\n",
    "    \"\"\"\n",
    "    # Create, or get the edge collection\n",
    "    collection_name = f\"{from_vertex_name}-{to_vertex_name}\"\n",
    "    if not graph.has_edge_definition(collection_name):\n",
    "        print(f\"Creating edge definition: {collection_name}\")\n",
    "        collection = graph.create_edge_definition(\n",
    "            edge_collection=collection_name,\n",
    "            from_vertex_collections=[f\"{from_vertex_name}\"],\n",
    "            to_vertex_collections=[f\"{to_vertex_name}\"],\n",
    "        )\n",
    "    else:\n",
    "        print(f\"Getting edge collection: {collection_name}\")\n",
    "        collection = graph.edge_collection(collection_name)\n",
    "\n",
    "    return collection, collection_name\n"
   ],
   "id": "ace16719-e71d-472e-ba0b-59456dd88ffa"
  },
  {
   "cell_type": "markdown",
   "metadata": {},
   "source": [
    "Now create a single edge collection from cell to gene vertices:"
   ],
   "id": "8571f7a4-4ea2-449d-9125-c2943080cd2d"
  },
  {
   "cell_type": "code",
   "execution_count": null,
   "metadata": {
    "results": "output",
    "session": "shared"
   },
   "outputs": [],
   "source": [
    "cell_gene, edge_name = create_or_get_edge_collection(graph, \"cell\", \"gene\")\n"
   ],
   "id": "53b63334-ad18-49a2-804c-d798f4a109eb"
  },
  {
   "cell_type": "markdown",
   "metadata": {},
   "source": [
    "Note that we can delete an edge collection as follows:"
   ],
   "id": "96bb9a67-c4bc-4102-8e49-3849771ab32d"
  },
  {
   "cell_type": "code",
   "execution_count": null,
   "metadata": {
    "results": "silent",
    "session": "shared",
    "tangle": "../py/ArangoDB.py"
   },
   "outputs": [],
   "source": [
    "def delete_edge_collection(graph, edge_name):\n",
    "    \"\"\"Delete an ArangoDB database graph edge definition and collection.\n",
    "\n",
    "    Parameters\n",
    "    ----------\n",
    "    graph : arango.graph.Graph\n",
    "        Graph\n",
    "    edge_name : str\n",
    "        Name of the edge definition and collection to delete\n",
    "\n",
    "    Returns\n",
    "    -------\n",
    "    None\n",
    "    \"\"\"\n",
    "    # Delete the collection\n",
    "    if graph.has_edge_definition(edge_name):\n",
    "        print(f\"Deleting graph edge definition and collection: {edge_name}\")\n",
    "        graph.delete_edge_definition(edge_name)\n"
   ],
   "id": "49258207-4131-4f28-adf9-1c95d1a7d36f"
  },
  {
   "cell_type": "markdown",
   "metadata": {},
   "source": [
    "## Insert graph vertices and edges\n",
    "\n",
    "Assuming the NS-Forest results reside in directory `NSFOREST_DIR`, we\n",
    "read each results file, then insert a vertex for each cell type and\n",
    "marker gene. Note that ArangoDB vertices can contain arbitrary\n",
    "content, so we collect the dataset identifiers for cell and gene\n",
    "vertices, and cluster names for gene vertices to use for inserting\n",
    "edges to dataset vertices we might add later."
   ],
   "id": "dc9e7247-1998-4346-bb88-01e6a3ee6413"
  },
  {
   "cell_type": "code",
   "execution_count": null,
   "metadata": {
    "results": "output",
    "session": "shared"
   },
   "outputs": [],
   "source": [
    "try:\n",
    "    # Read each NSForest results file\n",
    "    for fn in glob(f\"{NSFOREST_DIR}/*/*.csv\"):\n",
    "        print(f\"Reading results file: {fn}\")\n",
    "        df = pd.read_csv(fn)\n",
    "\n",
    "        # Append the dataset_id\n",
    "        dataset_id = os.path.basename(os.path.dirname(fn))\n",
    "        df[\"dataset_id\"] = dataset_id\n",
    "\n",
    "        # Consider each row of the DataFrame\n",
    "        for index, row in df.iterrows():\n",
    "\n",
    "            # Insert or update a cell vertex using the row clusterName\n",
    "            # as key, collecting all dataset_ids corresponding to the\n",
    "            # cell vertex\n",
    "            cll_key = row[\"clusterName\"].replace(\" \", \"-\").replace(\",\", \":\")\n",
    "            if not cell.has(cll_key):\n",
    "                d = {\n",
    "                    \"_key\": cll_key,\n",
    "                    \"clusterName\": row[\"clusterName\"],\n",
    "                    \"dataset_ids\": [row[\"dataset_id\"]],\n",
    "                }\n",
    "                print(f\"Inserting cell: {cll_key}\")\n",
    "                cell.insert(d)\n",
    "\n",
    "            else:\n",
    "                d = cell.get(cll_key)\n",
    "                d[\"dataset_ids\"].append(row[\"dataset_id\"])\n",
    "                print(f\"Updating cell: {cll_key}\")\n",
    "                cell.update(d)\n",
    "\n",
    "            # Consider each marker in the row\n",
    "            for mrk in ast.literal_eval(row[\"NSForest_markers\"]):\n",
    "\n",
    "                # Insert or update a gene vertex using the marker as\n",
    "                # key, collecting all clusterNames and dataset_ids\n",
    "                # corresponding to the gene vertex\n",
    "                gn_key = mrk\n",
    "                if not gene.has(gn_key):\n",
    "                    d = {\n",
    "                        \"_key\": gn_key,\n",
    "                        \"clusterNames\": [row[\"clusterName\"]],\n",
    "                        \"dataset_ids\": [row[\"dataset_id\"]],\n",
    "                    }\n",
    "                    print(f\"Inserting gene: {gn_key}\")\n",
    "                    gene.insert(d)\n",
    "\n",
    "                else:\n",
    "                    d = gene.get(gn_key)\n",
    "                    d[\"clusterNames\"].append(row[\"clusterName\"])\n",
    "                    d[\"dataset_ids\"].append(row[\"dataset_id\"])\n",
    "                    print(f\"Updating gene: {gn_key}\")\n",
    "                    gene.update(d)\n",
    "\n",
    "                # Insert an edge from the cell vertex to the gene\n",
    "                # vertex, if needed\n",
    "                d = {\n",
    "                    \"_key\": f\"{cll_key}-{gn_key}\",\n",
    "                    \"_from\": f\"cell/{cll_key}\",\n",
    "                    \"_to\": f\"gene/{gn_key}\",\n",
    "                }\n",
    "                if not cell_gene.has(d):\n",
    "                    print(\n",
    "                        f\"Inserting edge from cell vertex with key: {cll_key} to gene vertex with key: {gn_key}\"\n",
    "                    )\n",
    "                    cell_gene.insert(d)\n",
    "except Exception:\n",
    "    print_exc()\n"
   ],
   "id": "f3970080-2010-4667-8a61-b59d5d60d52e"
  },
  {
   "cell_type": "markdown",
   "metadata": {},
   "source": [
    "Note that all of the database objects created can be deleted as follows:"
   ],
   "id": "9c7bb454-ca4a-40bc-abf3-83eede1527f7"
  },
  {
   "cell_type": "code",
   "execution_count": null,
   "metadata": {
    "results": "output",
    "session": "shared"
   },
   "outputs": [],
   "source": [
    "delete_edge_collection(graph, edge_name)\n",
    "delete_vertex_collection(graph, gene_vertex_name)\n",
    "delete_vertex_collection(graph, cell_vertex_name)\n",
    "delete_graph(db, graph_name)\n",
    "delete_database(database_name)\n"
   ],
   "id": "7ef55fcd-8e90-4d4a-a792-6bf3e27deee1"
  },
  {
   "cell_type": "markdown",
   "metadata": {},
   "source": [
    "Next, in Chapter 06 we'll use Nextflow to process CELLxGENE H5AD files\n",
    "using NS-Forest.\n",
    "\n",
    "See:\n",
    "\n",
    "-   [Chapter-06-Nextflow.ipynb](Chapter-06-Nextflow.ipynb)\n",
    "-   [Chapter-03-NS-Forest.ipynb](Chapter-03-NS-Forest.ipynb)"
   ],
   "id": "e6df6bfd-a1f8-4d57-9e33-52d0359f2269"
  }
 ],
 "nbformat": 4,
 "nbformat_minor": 5,
 "metadata": {}
}
